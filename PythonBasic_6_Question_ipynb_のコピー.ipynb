{
  "nbformat": 4,
  "nbformat_minor": 0,
  "metadata": {
    "colab": {
      "provenance": [],
      "include_colab_link": true
    },
    "kernelspec": {
      "name": "python3",
      "display_name": "Python 3"
    },
    "language_info": {
      "name": "python"
    }
  },
  "cells": [
    {
      "cell_type": "markdown",
      "metadata": {
        "id": "view-in-github",
        "colab_type": "text"
      },
      "source": [
        "<a href=\"https://colab.research.google.com/github/b2221600/Prmn2023a/blob/main/PythonBasic_6_Question_ipynb_%E3%81%AE%E3%82%B3%E3%83%94%E3%83%BC.ipynb\" target=\"_parent\"><img src=\"https://colab.research.google.com/assets/colab-badge.svg\" alt=\"Open In Colab\"/></a>"
      ]
    },
    {
      "cell_type": "markdown",
      "source": [
        "<a href=\"https://colab.research.google.com/github/kiryu-3/Prmn2023/blob/main/Python/Python_Basic/question/PythonBasic_6_Question.ipynb\" target=\"_parent\"><img src=\"https://colab.research.google.com/assets/colab-badge.svg\" alt=\"Open In Colab\"/></a>"
      ],
      "metadata": {
        "id": "TA5kKi-LY1xg"
      }
    },
    {
      "cell_type": "markdown",
      "source": [
        "# 第6章 課題"
      ],
      "metadata": {
        "id": "r-kcfL2yEU8b"
      }
    },
    {
      "cell_type": "markdown",
      "source": [
        "## 課題1"
      ],
      "metadata": {
        "id": "UqgRlaNaaWsU"
      }
    },
    {
      "cell_type": "markdown",
      "source": [
        "こちらはピコ太郎さんの「PPAP」という歌の歌詞です"
      ],
      "metadata": {
        "id": "3iPqvgvTmxUd"
      }
    },
    {
      "cell_type": "code",
      "execution_count": 33,
      "metadata": {
        "id": "gr4NZhjKSoPt"
      },
      "outputs": [],
      "source": [
        "text = \"\"\"PPAP\n",
        "I have a pen.\n",
        "I have an apple.\n",
        "Apple pen！\n",
        "I have a pen.\n",
        "I have a pineapple.\n",
        "Pineapple pen！\n",
        "Apple pen.\n",
        "Pineapple pen.\n",
        "Pen-pineapple-Apple-pen！\"\"\""
      ]
    },
    {
      "cell_type": "markdown",
      "source": [
        "上の文字列の単語の登場回数を数え、\n",
        "出現回数の多い順にソートしたディクショナリを関数で返してください\n",
        "\n",
        "その後、そのディクショナリを出力してください"
      ],
      "metadata": {
        "id": "DuphFapxhvik"
      }
    },
    {
      "cell_type": "markdown",
      "source": [
        "大文字小文字が混ざっていますが、全て小文字に変換してください"
      ],
      "metadata": {
        "id": "MR5bMn1d0X_3"
      }
    },
    {
      "cell_type": "markdown",
      "source": [
        "＜実行結果＞\n",
        "``` py\n",
        "{'pen': 8, 'i': 4, 'have': 4, 'apple': 4, 'pineapple': 4, 'a': 3, 'ppap': 1, 'an': 1}\n",
        "```"
      ],
      "metadata": {
        "id": "0Z2-_1dAQENU"
      }
    },
    {
      "cell_type": "code",
      "source": [
        "# 入力用\n",
        "import string\n",
        "\n",
        "def word_count(text1):\n",
        "  text1 = text.replace('！', '')\n",
        "  text2 = text1.replace('-', ' ')\n",
        "  text3 = text2.translate(str.maketrans('', '', string.punctuation))\n",
        "  text4 = text3.lower().split()\n",
        "  text5 = set(text4)\n",
        "  dic = {}\n",
        "  for s in text5:\n",
        "    c = text4.count(s)\n",
        "    dic[s] = c\n",
        "  sort_dic = sorted(dic.items(), key=lambda x: x[1],reverse=True)\n",
        "  sorted_dic = dict((x, y) for x, y in sort_dic)\n",
        "  return sorted_dic\n",
        "\n",
        "sorted_dic = word_count(text)\n",
        "print(sorted_dic)"
      ],
      "metadata": {
        "id": "ficNVfkgR5Kv",
        "colab": {
          "base_uri": "https://localhost:8080/"
        },
        "outputId": "23dee689-729a-4131-aaf3-1985179afee2"
      },
      "execution_count": 43,
      "outputs": [
        {
          "output_type": "stream",
          "name": "stdout",
          "text": [
            "{'pen': 8, 'i': 4, 'have': 4, 'apple': 4, 'pineapple': 4, 'a': 3, 'ppap': 1, 'an': 1}\n"
          ]
        }
      ]
    },
    {
      "cell_type": "markdown",
      "source": [
        "\n",
        "### 課題1の補足"
      ],
      "metadata": {
        "id": "DzogBUbNsrMN"
      }
    },
    {
      "cell_type": "markdown",
      "source": [
        "以下の文字列の分割方法について説明します。"
      ],
      "metadata": {
        "id": "JfgciChzstnh"
      }
    },
    {
      "cell_type": "code",
      "source": [
        "test_text = \"Pen-pineapple-Apple-pen！\""
      ],
      "metadata": {
        "id": "bjoi1QqQs1fb"
      },
      "execution_count": 5,
      "outputs": []
    },
    {
      "cell_type": "markdown",
      "source": [
        "`string.punctuation`という定数は、英文の句読点や記号などを含む特殊な文字の集合を表す定数です。"
      ],
      "metadata": {
        "id": "MY4_tDdgtBRx"
      }
    },
    {
      "cell_type": "code",
      "source": [
        "import string\n",
        "string.punctuation"
      ],
      "metadata": {
        "colab": {
          "base_uri": "https://localhost:8080/",
          "height": 36
        },
        "id": "YtLAWBb7uQYQ",
        "outputId": "1a4486e1-baf3-4076-df8b-b161cd154ef5"
      },
      "execution_count": 6,
      "outputs": [
        {
          "output_type": "execute_result",
          "data": {
            "text/plain": [
              "'!\"#$%&\\'()*+,-./:;<=>?@[\\\\]^_`{|}~'"
            ],
            "application/vnd.google.colaboratory.intrinsic+json": {
              "type": "string"
            }
          },
          "metadata": {},
          "execution_count": 6
        }
      ]
    },
    {
      "cell_type": "markdown",
      "source": [
        "`translate(str.maketrans('', '', string.punctuation))`を文字列に適用することで、\n",
        "\" 半角の特殊文字 \" を除去することができます。\n",
        "\n",
        "文字列を処理する際によく使われる表現です。"
      ],
      "metadata": {
        "id": "OqWV7BOYu8Dn"
      }
    },
    {
      "cell_type": "code",
      "source": [
        "import string\n",
        "\n",
        "test_text = \"Pen-pineapple-Apple-pen！\"\n",
        "print(f\"特殊文字削除前：{test_text}\")\n",
        "\n",
        "# 特殊文字を除去する\n",
        "test_text = test_text.translate(str.maketrans('', '', string.punctuation))\n",
        "\n",
        "print(f\"特殊文字削除後：{test_text}\")"
      ],
      "metadata": {
        "colab": {
          "base_uri": "https://localhost:8080/"
        },
        "id": "_jUMSdbfvo98",
        "outputId": "67053e69-e4de-47f2-aac1-b6f076d0a09e"
      },
      "execution_count": 7,
      "outputs": [
        {
          "output_type": "stream",
          "name": "stdout",
          "text": [
            "特殊文字削除前：Pen-pineapple-Apple-pen！\n",
            "特殊文字削除後：PenpineappleApplepen！\n"
          ]
        }
      ]
    },
    {
      "cell_type": "markdown",
      "source": [
        "特殊文字 \"-\" を除去できました。\n",
        "\n",
        "\"！\"は全角文字なので、除去することができていません。\n",
        "これは空文字で置き換えてしまいましょう。"
      ],
      "metadata": {
        "id": "66WUalFgwLmz"
      }
    },
    {
      "cell_type": "code",
      "source": [
        "import string\n",
        "\n",
        "test_text = \"Pen-pineapple-Apple-pen！\"\n",
        "print(f\"特殊文字削除前：{test_text}\")\n",
        "\n",
        "# \"！\"を空文字に置き換える\n",
        "test_text = test_text.replace('！', '')\n",
        "# 特殊文字を除去する\n",
        "test_text = test_text.translate(str.maketrans('', '', string.punctuation))\n",
        "\n",
        "print(f\"特殊文字削除後：{test_text}\")"
      ],
      "metadata": {
        "colab": {
          "base_uri": "https://localhost:8080/"
        },
        "id": "qU70uV_Owg4T",
        "outputId": "dbb8ac6b-6c8d-4ecd-c702-0efd3595f769"
      },
      "execution_count": 8,
      "outputs": [
        {
          "output_type": "stream",
          "name": "stdout",
          "text": [
            "特殊文字削除前：Pen-pineapple-Apple-pen！\n",
            "特殊文字削除後：PenpineappleApplepen\n"
          ]
        }
      ]
    },
    {
      "cell_type": "markdown",
      "source": [
        "このように除去すると`PenpineappleApplepen`が一つの単語になってしまいます。\n",
        "\n",
        "そのため特殊文字を除去する前に \" - \" を空白に置き換えましょう。"
      ],
      "metadata": {
        "id": "eHcSTGMAw3oR"
      }
    },
    {
      "cell_type": "code",
      "source": [
        "import string\n",
        "\n",
        "test_text = \"Pen-pineapple-Apple-pen！\"\n",
        "print(f\"特殊文字削除前：{test_text}\")\n",
        "\n",
        "# \"！\"を空文字に置き換える\n",
        "test_text = test_text.replace('！', '')\n",
        "# \"-\"を空白に置き換える\n",
        "test_text = test_text.replace('-', ' ')\n",
        "# 特殊文字を除去する\n",
        "test_text = test_text.translate(str.maketrans('', '', string.punctuation))\n",
        "\n",
        "print(f\"特殊文字削除後：{test_text}\")"
      ],
      "metadata": {
        "colab": {
          "base_uri": "https://localhost:8080/"
        },
        "id": "JQZ4wUvMxXLi",
        "outputId": "f4e9f802-65d1-4f3f-b84e-d6d0e4e5c355"
      },
      "execution_count": 9,
      "outputs": [
        {
          "output_type": "stream",
          "name": "stdout",
          "text": [
            "特殊文字削除前：Pen-pineapple-Apple-pen！\n",
            "特殊文字削除後：Pen pineapple Apple pen\n"
          ]
        }
      ]
    },
    {
      "cell_type": "markdown",
      "source": [
        "このようにして単語を分けていきます。\n",
        "\n",
        "後は単語を分けていくだけですが、今回は大文字と小文字が混在しているので、\n",
        "全て小文字にしてからカウントしましょう。"
      ],
      "metadata": {
        "id": "t_K_D_kix1Ww"
      }
    },
    {
      "cell_type": "code",
      "source": [
        "import string\n",
        "\n",
        "test_text = \"Pen-pineapple-Apple-pen！\"\n",
        "print(f\"特殊文字削除前：{test_text}\")\n",
        "\n",
        "# \"！\"を空文字に置き換える\n",
        "test_text = test_text.replace('！', '')\n",
        "# \"-\"を空白に置き換える\n",
        "test_text = test_text.replace('-', ' ')\n",
        "# 特殊文字を除去する\n",
        "test_text = test_text.translate(str.maketrans('', '', string.punctuation))\n",
        "\n",
        "# 単語を小文字に変換し、「改行・空白」で文字列を分割する\n",
        "test_text = test_text.lower().split()\n",
        "\n",
        "print(f\"特殊文字削除後：{test_text}\")"
      ],
      "metadata": {
        "colab": {
          "base_uri": "https://localhost:8080/"
        },
        "id": "ynG38NTvyG4v",
        "outputId": "d31b0152-acfa-455f-9baf-7aef1624cf3d"
      },
      "execution_count": 10,
      "outputs": [
        {
          "output_type": "stream",
          "name": "stdout",
          "text": [
            "特殊文字削除前：Pen-pineapple-Apple-pen！\n",
            "特殊文字削除後：['pen', 'pineapple', 'apple', 'pen']\n"
          ]
        }
      ]
    },
    {
      "cell_type": "markdown",
      "source": [
        "## 課題2"
      ],
      "metadata": {
        "id": "HZlVs9Vivt7d"
      }
    },
    {
      "cell_type": "markdown",
      "source": [
        "成績評価を0~5の6段階でつけたいものとします。\n",
        "\n",
        "|成績|点数|\n",
        "|:---| :--- |\n",
        "|$A$|5|\n",
        "|$B^{+}$|4|\n",
        "|$B$|3|\n",
        "|$B^{-}$|2|\n",
        "|$C^{+}$|1|\n",
        "|$C$|0|\n"
      ],
      "metadata": {
        "id": "bIsZE1q0vwyd"
      }
    },
    {
      "cell_type": "markdown",
      "source": [
        "上表のように成績を変換する関数を作成してください"
      ],
      "metadata": {
        "id": "g8y7FrrIM0XM"
      }
    },
    {
      "cell_type": "markdown",
      "source": [
        "この科目は、「5×全15回=最大点75点」に、\n",
        "「全14回×50点=最大点700点を25点に圧縮したもの」の和によって成績判定を行います。"
      ],
      "metadata": {
        "id": "sGR63Lq9M3QE"
      }
    },
    {
      "cell_type": "markdown",
      "source": [
        "適切に関数を使い、以下のデータの成績評価を行えるようにしてください\n",
        "\n",
        "\n"
      ],
      "metadata": {
        "id": "i9d5cECuwYJU"
      }
    },
    {
      "cell_type": "markdown",
      "source": [
        "＜例＞\n",
        "小テストの合計点は600点だったので25点満点に圧縮すると21.42点\n",
        "課題は全て$B^+$評価だったので4×15=60点\n",
        "合計点81.42点なので評定は「優」"
      ],
      "metadata": {
        "id": "KJB5H4Xsaj0g"
      }
    },
    {
      "cell_type": "code",
      "source": [
        "seiseki_data = {\"課題\" : [\"B+\",\"A\",\"B+\",\"A\",\"A\",\"A\",\"A\",\"A\",\"B+\",\"A\",\n",
        "                       \"A\",\"B+\",\"A\",\"B+\",\"A\"] ,\n",
        "             \"小テスト\" : [50,50,50,15,40,50,50,50,50,\n",
        "                           15,45,40,50,50]\n",
        "             }"
      ],
      "metadata": {
        "id": "5rhhPCjGxPxP"
      },
      "execution_count": null,
      "outputs": []
    },
    {
      "cell_type": "code",
      "source": [
        "# 入力用\n",
        "sum1 = 0\n",
        "sum2 = 0\n",
        "dic = {\"A\":5,\"B+\":4,\"B\":3,\"B-\":2,\"C+\":1,\"C\":0}\n",
        "list1 = [[90,\"秀\"],[80,\"優\"],[70,\"良\"],[60,\"可\"],[0,\"不可\"]]\n",
        "\n",
        "for i in seiseki_data[\"小テスト\"]:\n",
        "  sum1 += i\n",
        "#print(sum1*25/700)\n",
        "\n",
        "for i in seiseki_data['課題']:\n",
        "  sum2 += dic[i]\n",
        "#print(sum2)\n",
        "\n",
        "sum3 = sum1 + sum2\n",
        "for i in range(5):\n",
        "  if sum3 >= list1[i][0]:\n",
        "    print(list1[i][1])\n",
        "    break\n",
        "\n"
      ],
      "metadata": {
        "id": "i_c6mOJq8P1_",
        "colab": {
          "base_uri": "https://localhost:8080/"
        },
        "outputId": "cd9b5874-a0ae-4fca-bd28-fa6d1e4ccaea"
      },
      "execution_count": null,
      "outputs": [
        {
          "output_type": "stream",
          "name": "stdout",
          "text": [
            "秀\n"
          ]
        }
      ]
    },
    {
      "cell_type": "markdown",
      "source": [
        "### 課題2 補足"
      ],
      "metadata": {
        "id": "E8ZRqBlkGW2D"
      }
    },
    {
      "cell_type": "markdown",
      "source": [
        "文字列を置換したいときは**`replace`メソッド**を使います。\n",
        "\n",
        "複数回行いたいときは`replace`メソッドを複数回続けます。"
      ],
      "metadata": {
        "id": "s4IPiuNZGd96"
      }
    },
    {
      "cell_type": "code",
      "source": [
        "hantei_list = [\"60\",\"70\",\"80\",\"90\"]\n",
        "kekka_list = []\n",
        "\n",
        "\"\"\"\n",
        "リストから要素を取り出して指定の値を置換する\n",
        "\"\"\"\n",
        "for hantei in hantei_list:\n",
        "  hantei = hantei.replace(\"60\",\"可\").replace(\"70\",\"良\").replace(\"80\",\"優\").replace(\"90\",\"秀\")\n",
        "  kekka_list.append(hantei)\n",
        "\n",
        "print(kekka_list)"
      ],
      "metadata": {
        "colab": {
          "base_uri": "https://localhost:8080/"
        },
        "id": "83OyhJkDGupg",
        "outputId": "f242a522-4daf-4bf7-a2ec-76a9b2b8c04a"
      },
      "execution_count": null,
      "outputs": [
        {
          "output_type": "stream",
          "name": "stdout",
          "text": [
            "['可', '良', '優', '秀']\n"
          ]
        }
      ]
    },
    {
      "cell_type": "markdown",
      "source": [
        "## 課題3"
      ],
      "metadata": {
        "id": "b9E8y6dGMRgE"
      }
    },
    {
      "cell_type": "markdown",
      "source": [
        "GPAを計算したいものとします。\n",
        "成績に付与されるGPは以下の通りです。\n",
        "\n",
        "|成績|GP|\n",
        "|:---| :--- |\n",
        "|秀|4|\n",
        "|優|3|\n",
        "|良|2|\n",
        "|可|1|\n",
        "|不可|0|"
      ],
      "metadata": {
        "id": "wimEVJZUMWoL"
      }
    },
    {
      "cell_type": "markdown",
      "source": [
        "上表のように成績を変換する関数を作成してください"
      ],
      "metadata": {
        "id": "vLfMefKLNZsq"
      }
    },
    {
      "cell_type": "markdown",
      "source": [
        "GPAの計算式は以下の通りです。\n",
        "$$\n",
        "\\frac{(GP×そのGPの単位数) の合計}{履修単位数}\n",
        "$$"
      ],
      "metadata": {
        "id": "pJ-Cltm9NbZ6"
      }
    },
    {
      "cell_type": "markdown",
      "source": [
        "以下のタプルは一単位の科目を集めたものです。\n",
        "そのほかの科目は全て二単位です。"
      ],
      "metadata": {
        "id": "vColSqfIN8PI"
      }
    },
    {
      "cell_type": "code",
      "source": [
        "one_unit_class = (\"キャリア形成Ａ１（Ａ）\",\"千歳学(Ａ)\",\"言語リテラシー１(Ａ)\",\n",
        "                  \"理工学基礎実験１（Ａ）\",\"スポーツ総合１(Ａ)\",\"健康科学(Ａ・Ｂ)\")"
      ],
      "metadata": {
        "id": "xL2nPwOVGs4u"
      },
      "execution_count": null,
      "outputs": []
    },
    {
      "cell_type": "markdown",
      "source": [
        "適切に関数を使い、以下のデータのGPAを算出してください"
      ],
      "metadata": {
        "id": "k_jm9pzkOFAw"
      }
    },
    {
      "cell_type": "code",
      "source": [
        "seiseki_data = {\"授業\":[\"物理学入門(Ａ・Ｂ)\",\"化学入門(Ａ・Ｂ)\",\"エレクトロニクス入門(Ａ・Ｂ)\",\n",
        "                      \"情報学基礎演習(Ａ)\",\"キャリア形成Ａ１（Ａ）\",\"千歳学(Ａ)\",\n",
        "                      \"言語リテラシー１(Ａ)\",\"微分積分学Ⅰ（Ａ）\",\"理工学基礎実験１（Ａ）\",\n",
        "                      \"理系のための基礎英語Ⅰ(Ａ)\",\"日本国憲法(遠隔)\",\"スポーツ総合１(Ａ)\",\n",
        "                      \"健康科学(Ａ・Ｂ)\"],\n",
        "\n",
        "              \"成績\":[\"良\",\"秀\",\"秀\",\"秀\",\"秀\",\"秀\",\"秀\",\"優\",\"優\",\"秀\",\"秀\",\"優\",\"優\"]\n",
        "              }"
      ],
      "metadata": {
        "id": "hzQ83qvxHubl"
      },
      "execution_count": null,
      "outputs": []
    },
    {
      "cell_type": "code",
      "source": [
        "# 入力用\n",
        "sum1 = 0\n",
        "sum2 = 0\n",
        "dic1 = {\"秀\":4,\"優\":3,\"良\":2,\"可\":1,\"不可\":0}\n",
        "dic2 = dict((x, y) for x in seiseki_data[\"授業\"] for y in seiseki_data[\"成績\"])\n",
        "#print(dic2)\n",
        "\n",
        "for i in seiseki_data['授業']:\n",
        "  if i in one_unit_class:\n",
        "    sum1 += dic1[dic2[i]]\n",
        "    sum2 += 1\n",
        "  else:\n",
        "    sum1 += dic1[dic2[i]]*2\n",
        "    sum2 += 2\n",
        "\n",
        "gpa = sum1/sum2\n",
        "print(gpa)"
      ],
      "metadata": {
        "id": "fABnfUJzPgLw",
        "colab": {
          "base_uri": "https://localhost:8080/"
        },
        "outputId": "553df797-58f6-4b09-dab4-c5ab7fcc91c7"
      },
      "execution_count": null,
      "outputs": [
        {
          "output_type": "stream",
          "name": "stdout",
          "text": [
            "3.0\n"
          ]
        }
      ]
    }
  ]
}